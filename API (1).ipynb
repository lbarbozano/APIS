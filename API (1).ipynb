{
 "cells": [
  {
   "cell_type": "markdown",
   "metadata": {
    "id": "PG3midVgd475"
   },
   "source": [
    "# Visão Geral APIs\n",
    "## Definição\n",
    "API, de Application Programming Interface (ou Interface de Programação de Aplicativos) é um conjunto de rotinas e padrões estabelecidos por um software para a utilização das suas funcionalidades por aplicativos que não pretendem envolver-se em detalhes da implementação do software, mas apenas usar seus serviços. De modo geral, a API é composta por uma série de funções acessíveis somente por programação, e que permitem utilizar características do software menos evidentes ao utilizador tradicional.\n",
    "\n",
    "![](https://programathor.com.br/blog/wp-content/uploads/2018/08/api-676x264.jpg)"
   ]
  },
  {
   "cell_type": "markdown",
   "metadata": {
    "id": "77x6JM26iPTN"
   },
   "source": [
    "## Repositórios de APIs\n",
    "https://www.programmableweb.com/category/all/apis\n",
    "\n",
    "### Exemplos de APIs que não exigem autenticação\n",
    "- https://api.ipify.org/?format=json\n",
    "- https://api.duckduckgo.com/?q=Machine+Learning&format=json&pretty=1\n",
    "- https://viacep.com.br/ws/01001000/json/\n",
    "\n",
    "\n",
    "### Exemplos de APIs que exigem autenticação\n",
    "- https://developers.google.com/maps/documentation\n",
    "- https://developer.twitter.com/en/docs\n",
    "- https://developers.google.com/youtube/v3"
   ]
  },
  {
   "cell_type": "markdown",
   "metadata": {
    "id": "lo1WiU-Hi-zG"
   },
   "source": [
    "# Exemplos Práticos\n",
    "Pacotes que estaremos utilizando neste tutorial:\n",
    "- [`requests`](https://requests.readthedocs.io/en/master/)\n",
    "- [`json`](https://docs.python.org/3/library/json.html)\n",
    "\n",
    "## Exemplo sem Autenticação: Pegar endereco de IP\n",
    "Crie uma função meu_ip que retorne o endereço de IP da máquina no qual é executado. Utilize a seguinte URL para chamada da API: https://api.ipify.org/?format=json"
   ]
  },
  {
   "cell_type": "code",
   "execution_count": 1,
   "metadata": {
    "colab": {
     "base_uri": "https://localhost:8080/",
     "height": 34
    },
    "id": "N4akGePRjYD5",
    "outputId": "90cc4182-0ad2-44f9-e51b-a46ed0928e98"
   },
   "outputs": [
    {
     "data": {
      "text/plain": [
       "b'{\"ip\":\"131.0.60.26\"}'"
      ]
     },
     "execution_count": 1,
     "metadata": {},
     "output_type": "execute_result"
    }
   ],
   "source": [
    "# Primeiro vamos testar se a URL da API funciona\n",
    "import requests\n",
    "requests.get(\"https://api.ipify.org/?format=json\").content"
   ]
  },
  {
   "cell_type": "code",
   "execution_count": 2,
   "metadata": {
    "id": "4E7rJMiybdd-"
   },
   "outputs": [],
   "source": [
    "c = requests.get(\"https://api.ipify.org/?format=json\").content"
   ]
  },
  {
   "cell_type": "code",
   "execution_count": 3,
   "metadata": {
    "id": "pRVfk5J1bdLR"
   },
   "outputs": [],
   "source": [
    "import json"
   ]
  },
  {
   "cell_type": "code",
   "execution_count": 4,
   "metadata": {
    "colab": {
     "base_uri": "https://localhost:8080/",
     "height": 34
    },
    "id": "CEnY_MRpjhf6",
    "outputId": "6931ba42-79fa-4aab-defb-6b321b6298c7"
   },
   "outputs": [
    {
     "name": "stdout",
     "output_type": "stream",
     "text": [
      "{'ip': '131.0.60.26'}\n"
     ]
    }
   ],
   "source": [
    "# Funciona de fato! vemos que ele retorna um JSON, vamos carregar o mesmo para conversão para um dicionário\n",
    "\n",
    "c = requests.get(\"https://api.ipify.org/?format=json\").content\n",
    "ip = json.loads(c)\n",
    "print(ip)"
   ]
  },
  {
   "cell_type": "code",
   "execution_count": 5,
   "metadata": {
    "colab": {
     "base_uri": "https://localhost:8080/",
     "height": 35
    },
    "id": "6lqZVjkjjvny",
    "outputId": "d2a7a7d6-9328-484d-abdf-1fe979570c50"
   },
   "outputs": [
    {
     "data": {
      "text/plain": [
       "'131.0.60.26'"
      ]
     },
     "execution_count": 5,
     "metadata": {},
     "output_type": "execute_result"
    }
   ],
   "source": [
    "# Ok! Graças ao pacote JSON conseguimos carregar o IP sob a forma de um dicionário.\n",
    "# Vamos agora pegar o ip de fato:\n",
    "ip['ip']"
   ]
  },
  {
   "cell_type": "code",
   "execution_count": 6,
   "metadata": {
    "id": "-ht9paaEjvZy"
   },
   "outputs": [],
   "source": [
    "# Finalmente, se desejar, podemos transforma-lo em uma função:\n",
    "def meu_ip():\n",
    "    c = requests.get(\"https://api.ipify.org/?format=json\").content\n",
    "    ip = json.loads(c)\n",
    "    return ip['ip']"
   ]
  },
  {
   "cell_type": "code",
   "execution_count": 7,
   "metadata": {
    "colab": {
     "base_uri": "https://localhost:8080/",
     "height": 35
    },
    "id": "nwmZ0POCjU8k",
    "outputId": "f3d2d852-a62f-482f-cd27-b527a9f720fc"
   },
   "outputs": [
    {
     "data": {
      "text/plain": [
       "'131.0.60.26'"
      ]
     },
     "execution_count": 7,
     "metadata": {},
     "output_type": "execute_result"
    }
   ],
   "source": [
    "# Vamos testar!\n",
    "meu_ip()"
   ]
  },
  {
   "cell_type": "code",
   "execution_count": null,
   "metadata": {
    "id": "d9WtuYvLjUpn"
   },
   "outputs": [],
   "source": [
    "# Funcionou!"
   ]
  },
  {
   "cell_type": "markdown",
   "metadata": {
    "id": "LSegOADUkzD3"
   },
   "source": [
    "## Pegar endereço a partir do IP\n",
    "Algumas APIS poderão exigir autenticação. Vamos ilustrar um exemplo para coletar o endereço a partir do endereço de IP:\n",
    "- Acesse https://ipstack.com/product\n",
    "- Clique em Get Free API\n",
    "- Coloque seus dados\n",
    "- Salve o API Access Key disponibilizado em \"Step 1\"\n",
    "- Utilize a URL a seguir: http://api.ipstack.com/{endereco_ip}?access_key={api_key}"
   ]
  },
  {
   "cell_type": "code",
   "execution_count": 8,
   "metadata": {
    "colab": {
     "base_uri": "https://localhost:8080/",
     "height": 54
    },
    "id": "-uDkk9PGdkhW",
    "outputId": "efbceace-f8da-49ec-becb-2482c161aa03"
   },
   "outputs": [
    {
     "data": {
      "text/plain": [
       "b'{\"success\":false,\"error\":{\"code\":101,\"type\":\"invalid_access_key\",\"info\":\"You have not supplied a valid API Access Key. [Technical Support: support@apilayer.com]\"}}'"
      ]
     },
     "execution_count": 8,
     "metadata": {},
     "output_type": "execute_result"
    }
   ],
   "source": [
    "ip = '35.185.24.4'\n",
    "url = f'http://api.ipstack.com/{ip}?access_key=ac6408ef2bc8b13e75eb050daa01c8d0'\n",
    "\n",
    "requests.get(url).content"
   ]
  },
  {
   "cell_type": "code",
   "execution_count": 9,
   "metadata": {
    "id": "LHw95UFikyf0"
   },
   "outputs": [],
   "source": [
    "api_key = 'ac6408ef2bc8b13e75eb050daa01c8d0'\n",
    "c = requests.get(f'http://api.ipstack.com/{ip}?access_key={api_key}').content\n",
    "local = json.loads(c)"
   ]
  },
  {
   "cell_type": "code",
   "execution_count": 10,
   "metadata": {
    "colab": {
     "base_uri": "https://localhost:8080/",
     "height": 353
    },
    "id": "FsDzM2DCkOPw",
    "outputId": "028840ac-3891-41dc-93f1-70d2416e87eb"
   },
   "outputs": [
    {
     "data": {
      "text/plain": [
       "{'success': False,\n",
       " 'error': {'code': 101,\n",
       "  'type': 'invalid_access_key',\n",
       "  'info': 'You have not supplied a valid API Access Key. [Technical Support: support@apilayer.com]'}}"
      ]
     },
     "execution_count": 10,
     "metadata": {},
     "output_type": "execute_result"
    }
   ],
   "source": [
    "local"
   ]
  },
  {
   "cell_type": "markdown",
   "metadata": {
    "id": "YYUjF1g_t9dl"
   },
   "source": [
    "## Atividade Prática: APIs Relacionadas à mapas e endereços\n",
    "Na continuação deste tutorial estaremos utilizando múltiplas APIs com o objetivo de convertermos endereços ou CEPs para Latitude/Longitude. Como aplicação, tal informação poderá ser útil para aprimoragem de um modelo que estaremos implementando ao longo do curso (versão implementada disponível aqui: https://calculadora-imoveis-dev.herokuapp.com/)\n",
    "\n",
    "### Pegar Endereço a partir de CEP"
   ]
  },
  {
   "cell_type": "code",
   "execution_count": 14,
   "metadata": {
    "id": "tktdyctXuCpv"
   },
   "outputs": [],
   "source": [
    "URL_CEP = \"https://viacep.com.br/ws/{}/json/\""
   ]
  },
  {
   "cell_type": "code",
   "execution_count": 15,
   "metadata": {
    "colab": {
     "base_uri": "https://localhost:8080/",
     "height": 168
    },
    "id": "iX5g90e6uCnj",
    "outputId": "dbde4d9a-f88a-4ef0-f2b9-f96b380b5871"
   },
   "outputs": [
    {
     "data": {
      "text/plain": [
       "{'cep': '04943-200',\n",
       " 'logradouro': 'Rua Saí-Açu',\n",
       " 'complemento': '',\n",
       " 'bairro': 'Jardim Turquesa',\n",
       " 'localidade': 'São Paulo',\n",
       " 'uf': 'SP',\n",
       " 'ibge': '3550308',\n",
       " 'gia': '1004',\n",
       " 'ddd': '11',\n",
       " 'siafi': '7107'}"
      ]
     },
     "execution_count": 15,
     "metadata": {},
     "output_type": "execute_result"
    }
   ],
   "source": [
    "c = requests.get(URL_CEP.format(\"04943200\")).content\n",
    "endereco = json.loads(c)\n",
    "endereco"
   ]
  },
  {
   "cell_type": "code",
   "execution_count": 16,
   "metadata": {
    "id": "BHzYpH4uuCjl"
   },
   "outputs": [],
   "source": [
    "def cep2endereco(cep):\n",
    "    c = requests.get(URL_CEP.format(cep)).content\n",
    "    endereco = json.loads(c)\n",
    "    return endereco"
   ]
  },
  {
   "cell_type": "code",
   "execution_count": 17,
   "metadata": {
    "colab": {
     "base_uri": "https://localhost:8080/",
     "height": 168
    },
    "id": "fJXKp4onuCgq",
    "outputId": "50ed5293-12d9-4155-8e6e-8d304a621c4d"
   },
   "outputs": [
    {
     "data": {
      "text/plain": [
       "{'cep': '01310-000',\n",
       " 'logradouro': 'Avenida Paulista',\n",
       " 'complemento': 'até 610 - lado par',\n",
       " 'bairro': 'Bela Vista',\n",
       " 'localidade': 'São Paulo',\n",
       " 'uf': 'SP',\n",
       " 'ibge': '3550308',\n",
       " 'gia': '1004',\n",
       " 'ddd': '11',\n",
       " 'siafi': '7107'}"
      ]
     },
     "execution_count": 17,
     "metadata": {},
     "output_type": "execute_result"
    }
   ],
   "source": [
    "cep2endereco(\"01310000\")"
   ]
  },
  {
   "cell_type": "markdown",
   "metadata": {
    "id": "nk8JdKcHqlf0"
   },
   "source": [
    "### Endereço para Lat Long\n",
    "- Acessar https://opencagedata.com/api\n",
    "- Clique em Sign Up for API Key\n",
    "- Sign up with google\n",
    "- Aparecerá um questionario. O mesmo é opcional, clique em answer later\n",
    "- Acesse novamente https://opencagedata.com/api\n",
    "- Copie seu API Key\n",
    " "
   ]
  },
  {
   "cell_type": "code",
   "execution_count": 19,
   "metadata": {
    "id": "4dwu0S6OrrOT"
   },
   "outputs": [],
   "source": [
    "API_KEY = '27bff7b8dff14be694a91cb7f5862722'"
   ]
  },
  {
   "cell_type": "code",
   "execution_count": 20,
   "metadata": {
    "id": "Gxq6pRYzrrKc"
   },
   "outputs": [],
   "source": [
    "placename = 'Avenida Paulista Sao Paulo Sao Paulo Brazil'\n",
    "placename = placename.replace(' ', '+')"
   ]
  },
  {
   "cell_type": "code",
   "execution_count": 21,
   "metadata": {
    "colab": {
     "base_uri": "https://localhost:8080/",
     "height": 52
    },
    "id": "VOrhlRVrrrFQ",
    "outputId": "b97019fc-f1e9-4f4b-c93c-256a8150dbb9"
   },
   "outputs": [
    {
     "data": {
      "text/plain": [
       "'https://api.opencagedata.com/geocode/v1/json?q=Avenida+Paulista+Sao+Paulo+Sao+Paulo+Brazil&key=27bff7b8dff14be694a91cb7f5862722'"
      ]
     },
     "execution_count": 21,
     "metadata": {},
     "output_type": "execute_result"
    }
   ],
   "source": [
    "URL = f\"https://api.opencagedata.com/geocode/v1/json?q={placename}&key={API_KEY}\"\n",
    "URL"
   ]
  },
  {
   "cell_type": "code",
   "execution_count": 22,
   "metadata": {
    "id": "auH_a5X0utja"
   },
   "outputs": [],
   "source": [
    "def endereco2latlon(endereco, api_key):\n",
    "    placename = endereco\n",
    "    placename = placename.replace(' ', '+')\n",
    "    url = f\"https://api.opencagedata.com/geocode/v1/json?q={placename}&key={api_key}\"\n",
    "    c = requests.get(url).content\n",
    "    info = json.loads(c)\n",
    "    latitude = info['results'][0]['annotations']['DMS']['lat']\n",
    "    longitude = info['results'][0]['annotations']['DMS']['lng']\n",
    "    return latitude, longitude\n",
    "\n",
    "\n"
   ]
  },
  {
   "cell_type": "code",
   "execution_count": 23,
   "metadata": {
    "colab": {
     "base_uri": "https://localhost:8080/",
     "height": 34
    },
    "id": "fVtSQFIFutfv",
    "outputId": "cf9894b8-ef7d-4436-a663-b3fa0086d96b"
   },
   "outputs": [
    {
     "data": {
      "text/plain": [
       "(\"22° 53' 60.00000'' S\", \"43° 13' 59.98800'' W\")"
      ]
     },
     "execution_count": 23,
     "metadata": {},
     "output_type": "execute_result"
    }
   ],
   "source": [
    "endereco2latlon(\"São Cristóvão, Rio de Janeiro - State of Rio de Janeiro\", API_KEY)"
   ]
  },
  {
   "cell_type": "code",
   "execution_count": 24,
   "metadata": {
    "id": "xqpibEowQuo3"
   },
   "outputs": [],
   "source": [
    "meu_dicionario = {\n",
    "    'A': 1, \n",
    "    'B': 5, \n",
    "    'chave_c': [5, 3, 5], \n",
    " }"
   ]
  },
  {
   "cell_type": "code",
   "execution_count": 25,
   "metadata": {
    "colab": {
     "base_uri": "https://localhost:8080/",
     "height": 34
    },
    "id": "0Cau17RgQt99",
    "outputId": "dcf1bc49-517e-4973-db82-1193ad43f350"
   },
   "outputs": [
    {
     "data": {
      "text/plain": [
       "3"
      ]
     },
     "execution_count": 25,
     "metadata": {},
     "output_type": "execute_result"
    }
   ],
   "source": [
    "meu_dicionario['chave_c'][1]"
   ]
  },
  {
   "cell_type": "markdown",
   "metadata": {
    "id": "TYNGRfTZvrF4"
   },
   "source": [
    "### CEP para Latitude/Longitude"
   ]
  },
  {
   "cell_type": "code",
   "execution_count": 26,
   "metadata": {
    "id": "cit5wg12utdU"
   },
   "outputs": [],
   "source": [
    "endereco = cep2endereco(\"01310000\")"
   ]
  },
  {
   "cell_type": "code",
   "execution_count": 27,
   "metadata": {
    "colab": {
     "base_uri": "https://localhost:8080/",
     "height": 168
    },
    "id": "octuybVyVDq6",
    "outputId": "8184c735-515d-45fe-94a4-7afc6dc9812d"
   },
   "outputs": [
    {
     "data": {
      "text/plain": [
       "{'cep': '01310-000',\n",
       " 'logradouro': 'Avenida Paulista',\n",
       " 'complemento': 'até 610 - lado par',\n",
       " 'bairro': 'Bela Vista',\n",
       " 'localidade': 'São Paulo',\n",
       " 'uf': 'SP',\n",
       " 'ibge': '3550308',\n",
       " 'gia': '1004',\n",
       " 'ddd': '11',\n",
       " 'siafi': '7107'}"
      ]
     },
     "execution_count": 27,
     "metadata": {},
     "output_type": "execute_result"
    }
   ],
   "source": [
    "endereco"
   ]
  },
  {
   "cell_type": "code",
   "execution_count": 28,
   "metadata": {
    "colab": {
     "base_uri": "https://localhost:8080/",
     "height": 35
    },
    "id": "-E3_NxlpwD53",
    "outputId": "0b5acbdd-04c5-43ff-de92-0d69bd96b2eb"
   },
   "outputs": [
    {
     "data": {
      "text/plain": [
       "'Avenida Paulista São Paulo'"
      ]
     },
     "execution_count": 28,
     "metadata": {},
     "output_type": "execute_result"
    }
   ],
   "source": [
    "f\"{endereco['logradouro']} {endereco['localidade']}\""
   ]
  },
  {
   "cell_type": "code",
   "execution_count": 29,
   "metadata": {
    "colab": {
     "base_uri": "https://localhost:8080/",
     "height": 35
    },
    "id": "ZVYWEt_xwaVn",
    "outputId": "8f6f72f3-edb8-4ea5-b042-b14abe120d21"
   },
   "outputs": [
    {
     "data": {
      "text/plain": [
       "'Avenida Paulista São Paulo Bela Vista SP'"
      ]
     },
     "execution_count": 29,
     "metadata": {},
     "output_type": "execute_result"
    }
   ],
   "source": [
    "endereco_string = f\"{endereco['logradouro']} {endereco['localidade']} {endereco['bairro']} {endereco['uf']}\"\n",
    "endereco_string"
   ]
  },
  {
   "cell_type": "code",
   "execution_count": 30,
   "metadata": {
    "colab": {
     "base_uri": "https://localhost:8080/",
     "height": 34
    },
    "id": "FVnSdd2Uqk1o",
    "outputId": "a05d282a-5692-41fa-fe6f-f7af3c371b34"
   },
   "outputs": [
    {
     "data": {
      "text/plain": [
       "(\"23° 34' 13.09080'' S\", \"46° 38' 43.39572'' W\")"
      ]
     },
     "execution_count": 30,
     "metadata": {},
     "output_type": "execute_result"
    }
   ],
   "source": [
    "endereco2latlon(endereco_string, API_KEY)"
   ]
  },
  {
   "cell_type": "code",
   "execution_count": 31,
   "metadata": {
    "id": "Ann-BqOjxUuY"
   },
   "outputs": [],
   "source": [
    "def cep2mapinfo(cep):\n",
    "    endereco = cep2endereco(cep)\n",
    "    endereco_string = f\"{endereco['logradouro']} {endereco['localidade']} {endereco['bairro']} {endereco['uf']}\"\n",
    "    mapinfo = endereco2latlon(endereco_string, API_KEY)\n",
    "    return mapinfo"
   ]
  },
  {
   "cell_type": "code",
   "execution_count": 32,
   "metadata": {
    "colab": {
     "base_uri": "https://localhost:8080/",
     "height": 34
    },
    "id": "sDUCpXRIxUrt",
    "outputId": "cbc1e630-9102-4be8-d8b9-529c9ab58417"
   },
   "outputs": [
    {
     "data": {
      "text/plain": [
       "(\"23° 34' 13.09080'' S\", \"46° 38' 43.39572'' W\")"
      ]
     },
     "execution_count": 32,
     "metadata": {},
     "output_type": "execute_result"
    }
   ],
   "source": [
    "cep2mapinfo(\"01310000\")"
   ]
  }
 ],
 "metadata": {
  "colab": {
   "collapsed_sections": [
    "nk8JdKcHqlf0",
    "TYNGRfTZvrF4"
   ],
   "name": "API_visão_geral_exemplos_preenchido.ipynb",
   "provenance": [
    {
     "file_id": "13FIXK2lVR1-tW0ZiaIW3AS9vsENzNiXj",
     "timestamp": 1604609964104
    }
   ]
  },
  "kernelspec": {
   "display_name": "Python 3",
   "language": "python",
   "name": "python3"
  },
  "language_info": {
   "codemirror_mode": {
    "name": "ipython",
    "version": 3
   },
   "file_extension": ".py",
   "mimetype": "text/x-python",
   "name": "python",
   "nbconvert_exporter": "python",
   "pygments_lexer": "ipython3",
   "version": "3.8.3"
  }
 },
 "nbformat": 4,
 "nbformat_minor": 1
}
